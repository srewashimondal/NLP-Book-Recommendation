{
  "cells": [
    {
      "cell_type": "markdown",
      "metadata": {
        "colab_type": "text",
        "id": "view-in-github"
      },
      "source": [
        "<a href=\"https://colab.research.google.com/github/srewashimondal/NLP-Book-Recommendation/blob/main/Srewashi_AI4ALL_NLP_Book_Rec.ipynb\" target=\"_parent\"><img src=\"https://colab.research.google.com/assets/colab-badge.svg\" alt=\"Open In Colab\"/></a>"
      ]
    },
    {
      "cell_type": "code",
      "execution_count": 1,
      "metadata": {
        "colab": {
          "base_uri": "https://localhost:8080/",
          "height": 91
        },
        "id": "VuWvvUsR_Ole",
        "outputId": "53a2da29-7854-4310-9354-520a78bd82e3"
      },
      "outputs": [
        {
          "ename": "ModuleNotFoundError",
          "evalue": "No module named 'google'",
          "output_type": "error",
          "traceback": [
            "\u001b[31m---------------------------------------------------------------------------\u001b[39m",
            "\u001b[31mModuleNotFoundError\u001b[39m                       Traceback (most recent call last)",
            "\u001b[36mCell\u001b[39m\u001b[36m \u001b[39m\u001b[32mIn[1]\u001b[39m\u001b[32m, line 1\u001b[39m\n\u001b[32m----> \u001b[39m\u001b[32m1\u001b[39m \u001b[38;5;28;01mfrom\u001b[39;00m\u001b[38;5;250m \u001b[39m\u001b[34;01mgoogle\u001b[39;00m\u001b[34;01m.\u001b[39;00m\u001b[34;01mcolab\u001b[39;00m\u001b[38;5;250m \u001b[39m\u001b[38;5;28;01mimport\u001b[39;00m files\n\u001b[32m      2\u001b[39m files.upload()\n",
            "\u001b[31mModuleNotFoundError\u001b[39m: No module named 'google'"
          ]
        }
      ],
      "source": [
        "from google.colab import files\n",
        "files.upload()"
      ]
    },
    {
      "cell_type": "code",
      "execution_count": null,
      "metadata": {
        "id": "iAN0KeV_BOTZ"
      },
      "outputs": [],
      "source": [
        "!mkdir -p ~/.kaggle\n",
        "!cp kaggle.json ~/.kaggle/\n",
        "!chmod 600 ~/.kaggle/kaggle.json"
      ]
    },
    {
      "cell_type": "code",
      "execution_count": null,
      "metadata": {
        "colab": {
          "base_uri": "https://localhost:8080/"
        },
        "id": "rb-4Qx0sBU8w",
        "outputId": "331c5075-00fd-46ff-be96-982dcb8e2653"
      },
      "outputs": [],
      "source": [
        "!kaggle datasets download -d dk123891/books-dataset-goodreadsmay-2024"
      ]
    },
    {
      "cell_type": "code",
      "execution_count": null,
      "metadata": {
        "colab": {
          "base_uri": "https://localhost:8080/"
        },
        "id": "xaia8aO5BbGw",
        "outputId": "2c643424-9027-4d0b-a950-cdb94663d023"
      },
      "outputs": [],
      "source": [
        "#Unzip the dataset\n",
        "!unzip books-dataset-goodreadsmay-2024.zip"
      ]
    },
    {
      "cell_type": "code",
      "execution_count": null,
      "metadata": {
        "colab": {
          "base_uri": "https://localhost:8080/",
          "height": 1000
        },
        "id": "59jqXOrdBg8k",
        "outputId": "13264914-da04-438a-c73e-8fed967f3159"
      },
      "outputs": [],
      "source": [
        "import pandas as pd\n",
        "\n",
        "# Load the CSV file\n",
        "df = pd.read_csv(\"Book_Details.csv\")\n",
        "\n",
        "# Preview the data\n",
        "df.head(10)"
      ]
    },
    {
      "cell_type": "code",
      "execution_count": null,
      "metadata": {
        "id": "fXUMQORWCI8L"
      },
      "outputs": [],
      "source": [
        "#Data Cleaning and Preparation"
      ]
    },
    {
      "cell_type": "code",
      "execution_count": null,
      "metadata": {
        "id": "t6LZ9ocWCL6K"
      },
      "outputs": [],
      "source": [
        "#Columns we need right now\n",
        "df = df[['book_title', 'book_details','publication_info', 'author', 'num_pages', 'genres', 'num_ratings','num_reviews','average_rating']]"
      ]
    },
    {
      "cell_type": "code",
      "execution_count": null,
      "metadata": {
        "id": "QxTT5tF-CTNM"
      },
      "outputs": [],
      "source": [
        "#Drop missing values\n",
        "df.dropna(inplace=True)\n",
        "df.reset_index(drop=True, inplace=True)"
      ]
    },
    {
      "cell_type": "code",
      "execution_count": null,
      "metadata": {
        "colab": {
          "base_uri": "https://localhost:8080/",
          "height": 421
        },
        "id": "3AjD1gvjCXiJ",
        "outputId": "59acf94a-a707-4c67-bd43-9023ca911056"
      },
      "outputs": [],
      "source": [
        "#See cleaned dataset\n",
        "df.info()\n",
        "df.head(3)"
      ]
    },
    {
      "cell_type": "code",
      "execution_count": null,
      "metadata": {
        "id": "VANQuBdQC0eh"
      },
      "outputs": [],
      "source": [
        "#Check for duplicates\n",
        "df['book_title'].duplicated().sum()\n",
        "\n",
        "#If we find duplicated, keep only first entry\n",
        "df.drop_duplicates(subset='book_title', keep='first', inplace=True)\n",
        "df.reset_index(drop=True, inplace=True)"
      ]
    },
    {
      "cell_type": "code",
      "execution_count": null,
      "metadata": {
        "colab": {
          "base_uri": "https://localhost:8080/"
        },
        "id": "PgbzVu7CDRCA",
        "outputId": "c58c0adb-c1fa-476f-982a-721cc6ad2bd6"
      },
      "outputs": [],
      "source": [
        "#Count for each column\n",
        "df.info()"
      ]
    },
    {
      "cell_type": "code",
      "execution_count": null,
      "metadata": {
        "id": "nQMNjXAzIJ8c"
      },
      "outputs": [],
      "source": [
        "#Lowercase and strip spaces in text fields like book_title, book_details, genres, and author\n",
        "text_cols = ['book_title', 'book_details', 'genres', 'author']\n",
        "\n",
        "for col in text_cols:\n",
        "    df[col] = df[col].str.lower().str.strip()"
      ]
    },
    {
      "cell_type": "code",
      "execution_count": null,
      "metadata": {
        "id": "SKDQ1G-VIRGj"
      },
      "outputs": [],
      "source": [
        "#Ensure num_pages, num_ratings, num_reviews, and average_rating are numeric\n",
        "# numeric_cols = ['num_pages', 'num_ratings', 'num_reviews', 'average_rating']\n",
        "\n",
        "# for col in numeric_cols:\n",
        "#     df[col] = pd.to_numeric(df[col], errors='coerce')\n",
        "\n",
        "#Then drop or fill any NaNs that may have appeared:\n",
        "# df.dropna(subset=numeric_cols, inplace=True)\n",
        "# df.reset_index(drop=True, inplace=True)\n",
        "\n",
        "#Gave me error so I commented out this block of code"
      ]
    },
    {
      "cell_type": "code",
      "execution_count": null,
      "metadata": {
        "id": "7jHdwdTsIgBK"
      },
      "outputs": [],
      "source": [
        "#Extract Year from publication_info (for if we want to later filter by publication year)\n",
        "# df['year_published'] = df['publication_info'].str.extract(r'(\\d{4})').astype(float)\n",
        "\n",
        "#Gave me error so I commented out this block of code"
      ]
    },
    {
      "cell_type": "code",
      "execution_count": null,
      "metadata": {
        "colab": {
          "base_uri": "https://localhost:8080/"
        },
        "id": "tduEMwKPJj8u",
        "outputId": "72ab4eed-72c9-42bf-efa4-1a423bfebd49"
      },
      "outputs": [],
      "source": [
        "print(\"Unique values per column:\")\n",
        "print(df.nunique())\n",
        "\n",
        "print(\"\\nMissing values per column:\")\n",
        "print(df.isnull().sum())\n",
        "\n",
        "print(\"\\nTop genres:\")\n",
        "print(df['genres'].value_counts().head(10))\n"
      ]
    },
    {
      "cell_type": "code",
      "execution_count": null,
      "metadata": {
        "colab": {
          "base_uri": "https://localhost:8080/"
        },
        "id": "qCi-FJG7JuCd",
        "outputId": "c915149d-e650-4811-af30-b060e04cbe89"
      },
      "outputs": [],
      "source": [
        "df.shape"
      ]
    },
    {
      "cell_type": "code",
      "execution_count": null,
      "metadata": {
        "colab": {
          "base_uri": "https://localhost:8080/",
          "height": 1000
        },
        "id": "FLSmQCb4f0n4",
        "outputId": "8856a9a4-aabd-4eee-8fa1-93a63df705f1"
      },
      "outputs": [],
      "source": [
        "# shows all 100 rows without truncation\n",
        "pd.set_option('display.max_rows', 100)\n",
        "pd.set_option('display.max_columns', None)\n",
        "pd.set_option('display.width', None)\n",
        "pd.set_option('display.max_colwidth', None)\n",
        "\n",
        "# df.head(100)\n",
        "# for the sake of data, I will do df.head(10)\n",
        "df.head(10)"
      ]
    },
    {
      "cell_type": "code",
      "execution_count": null,
      "metadata": {
        "id": "CZGxI13riQRl"
      },
      "outputs": [],
      "source": [
        "#Next steps\n",
        "# clean strings - text data\n",
        "# fix data types"
      ]
    },
    {
      "cell_type": "code",
      "execution_count": null,
      "metadata": {
        "colab": {
          "base_uri": "https://localhost:8080/",
          "height": 380
        },
        "id": "jiMmsIQX1OnZ",
        "outputId": "94761ffb-e8e0-4710-ea81-5af0832c2791"
      },
      "outputs": [],
      "source": [
        "# Combine important text fields into one column\n",
        "df['combined_text'] = df['book_title'] + ' ' + df['book_details'] + ' ' + df['genres'] + ' ' + df['author']\n",
        "df['combined_text'] = df['combined_text'].str.lower()\n",
        "df['combined_text'] = df['combined_text'].str.replace(r'[^\\w\\s]', '', regex=True)\n",
        "\n",
        "# To see it\n",
        "df[['book_title', 'combined_text']].head(5)"
      ]
    },
    {
      "cell_type": "code",
      "execution_count": null,
      "metadata": {
        "colab": {
          "base_uri": "https://localhost:8080/"
        },
        "id": "PirYrte-1ZAg",
        "outputId": "68732ee3-ce52-4252-9fc3-74842ef2cb09"
      },
      "outputs": [],
      "source": [
        "# It’s a method that turns text into numerical vectors and measures how important a word is to a document in a collection (in your case, a book in your dataset)\n",
        "from sklearn.feature_extraction.text import TfidfVectorizer\n",
        "\n",
        "# Initialize vectorizer\n",
        "# means it will ignore common English words like “the,” “is,” “and,” etc\n",
        "vectorizer = TfidfVectorizer(stop_words='english')\n",
        "\n",
        "# Fit learns the vocabulary from data\n",
        "# Creates a matrix where: each row = one book, each column = one unique word from the full vocabulary, & each value = TF-IDF score for that word in that book. This matrix is called a sparse matrix\n",
        "tfidf_matrix = vectorizer.fit_transform(df['combined_text'])\n",
        "\n",
        "# Print shape\n",
        "print(tfidf_matrix.shape)"
      ]
    },
    {
      "cell_type": "code",
      "execution_count": null,
      "metadata": {
        "colab": {
          "base_uri": "https://localhost:8080/",
          "height": 80
        },
        "id": "8EjJWE8xQmoW",
        "outputId": "5054160f-47d5-4ef4-f45a-7455c10e8626"
      },
      "outputs": [],
      "source": [
        "from sklearn.neighbors import NearestNeighbors\n",
        "\n",
        "# Initialize the model. Uses cosine similarity to compare books\n",
        "knn_model = NearestNeighbors(metric='cosine', algorithm='brute')\n",
        "\n",
        "# Fit the model on the TF-IDF matrix\n",
        "knn_model.fit(tfidf_matrix)"
      ]
    },
    {
      "cell_type": "code",
      "execution_count": null,
      "metadata": {
        "id": "Ul8rHBxdQygj"
      },
      "outputs": [],
      "source": [
        "def recommend_books(prompt, n=5):\n",
        "    # Preprocess the prompt\n",
        "    prompt = prompt.lower().strip()\n",
        "\n",
        "    # Vectorize the prompt using the same TF-IDF vectorizer\n",
        "    prompt_vector = vectorizer.transform([prompt])\n",
        "\n",
        "    # Find nearest neighbors (books)\n",
        "    distances, indices = knn_model.kneighbors(prompt_vector, n_neighbors=n)\n",
        "\n",
        "    # Return book titles and distances\n",
        "    return df.iloc[indices[0]][['book_title', 'author', 'genres']]"
      ]
    },
    {
      "cell_type": "code",
      "execution_count": null,
      "metadata": {
        "colab": {
          "base_uri": "https://localhost:8080/",
          "height": 206
        },
        "id": "0BqP1y_kQ3wM",
        "outputId": "8dc57042-f4ed-4164-d807-f55122c97095"
      },
      "outputs": [],
      "source": [
        "recommend_books(\"magic school fantasy\", n=5)"
      ]
    },
    {
      "cell_type": "code",
      "execution_count": null,
      "metadata": {
        "colab": {
          "base_uri": "https://localhost:8080/"
        },
        "id": "H_c5BvISRirW",
        "outputId": "cf8fe90b-d972-409b-d84a-0ff46066dba5"
      },
      "outputs": [],
      "source": [
        "# Step 1: Ask the user for their prompt\n",
        "user_input = input(\"Describe the kind of book you're looking for: \")\n",
        "\n",
        "# Step 2: Call the recommendation function with user input\n",
        "recommendations = recommend_books(user_input, n=5)\n",
        "\n",
        "# Step 3: Display the results\n",
        "print(\"\\nTop recommended books:\\n\")\n",
        "print(recommendations)"
      ]
    },
    {
      "cell_type": "code",
      "execution_count": null,
      "metadata": {},
      "outputs": [],
      "source": [
        "import joblib\n",
        "\n",
        "# Saves everything I need\n",
        "joblib.dump(vectorizer, 'vectorizer.pkl')\n",
        "joblib.dump(knn_model, 'knn_model.pkl')\n",
        "joblib.dump(tfidf_matrix, 'tfidf.pkl')\n",
        "joblib.dump(df, 'books_df.pkl')"
      ]
    },
    {
      "cell_type": "code",
      "execution_count": null,
      "metadata": {},
      "outputs": [],
      "source": [
        "from google.colab import files\n",
        "\n",
        "files.download('vectorizer.pkl')\n",
        "files.download('knn_model.pkl')\n",
        "files.download('tfidf.pkl')\n",
        "files.download('books_df.pkl')"
      ]
    }
  ],
  "metadata": {
    "colab": {
      "authorship_tag": "ABX9TyMf6m5Uj1Wd6m2uhEBSnWcD",
      "include_colab_link": true,
      "provenance": []
    },
    "kernelspec": {
      "display_name": "venv",
      "language": "python",
      "name": "python3"
    },
    "language_info": {
      "codemirror_mode": {
        "name": "ipython",
        "version": 3
      },
      "file_extension": ".py",
      "mimetype": "text/x-python",
      "name": "python",
      "nbconvert_exporter": "python",
      "pygments_lexer": "ipython3",
      "version": "3.12.5"
    }
  },
  "nbformat": 4,
  "nbformat_minor": 0
}
